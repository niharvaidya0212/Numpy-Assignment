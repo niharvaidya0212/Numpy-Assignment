{
 "cells": [
  {
   "cell_type": "code",
   "execution_count": 6,
   "id": "337cc1b8",
   "metadata": {},
   "outputs": [],
   "source": [
    "#Nihar M. Vaidya\n",
    "import numpy as np"
   ]
  },
  {
   "cell_type": "code",
   "execution_count": 7,
   "id": "4fd7612f",
   "metadata": {},
   "outputs": [
    {
     "name": "stdout",
     "output_type": "stream",
     "text": [
      "[0. 0. 0. 0. 1. 0. 0. 0. 0. 0.]\n"
     ]
    }
   ],
   "source": [
    "#1. Create a null vector of size 10 but the fifth value which is 1.\n",
    "\n",
    "a = np.zeros(10)\n",
    "a[4] = 1\n",
    "print(a)"
   ]
  },
  {
   "cell_type": "code",
   "execution_count": 8,
   "id": "c6c6c31a",
   "metadata": {},
   "outputs": [
    {
     "name": "stdout",
     "output_type": "stream",
     "text": [
      "[10 11 12 13 14 15 16 17 18 19 20 21 22 23 24 25 26 27 28 29 30 31 32 33\n",
      " 34 35 36 37 38 39 40 41 42 43 44 45 46 47 48 49]\n"
     ]
    }
   ],
   "source": [
    "#2. Create a vector with values ranging from 10 to 49.\n",
    "\n",
    "b = np.arange(10,50)\n",
    "print(b)"
   ]
  },
  {
   "cell_type": "code",
   "execution_count": 9,
   "id": "18cb811e",
   "metadata": {},
   "outputs": [
    {
     "name": "stdout",
     "output_type": "stream",
     "text": [
      "[[0 1 2]\n",
      " [3 4 5]\n",
      " [6 7 8]]\n"
     ]
    }
   ],
   "source": [
    "#3. Create a 3x3 matrix with values ranging from 0 to 8\n",
    "\n",
    "mat1 = np.arange(9).reshape(3,3)\n",
    "print(mat1)"
   ]
  },
  {
   "cell_type": "code",
   "execution_count": 12,
   "id": "f0a8f116",
   "metadata": {},
   "outputs": [
    {
     "name": "stdout",
     "output_type": "stream",
     "text": [
      "(array([0, 1, 4], dtype=int64),)\n"
     ]
    }
   ],
   "source": [
    "#4. Find indices of non-zero elements from [1,2,0,0,4,0]\n",
    "\n",
    "n = np.nonzero([1,2,0,0,4,0])\n",
    "print(n)"
   ]
  },
  {
   "cell_type": "code",
   "execution_count": 18,
   "id": "02050a34",
   "metadata": {},
   "outputs": [
    {
     "name": "stdout",
     "output_type": "stream",
     "text": [
      "[[0.91069911 0.97161945 0.5963763  0.36112207 0.22693782 0.42745009\n",
      "  0.6661334  0.23247837 0.96188652 0.84764849]\n",
      " [0.9177938  0.89581162 0.04199069 0.41614882 0.2562629  0.61643916\n",
      "  0.26764052 0.92651189 0.11221292 0.89079223]\n",
      " [0.92897441 0.41953817 0.95244179 0.76080153 0.09180514 0.85075565\n",
      "  0.25642028 0.81794056 0.74556098 0.62116791]\n",
      " [0.2368306  0.98855653 0.11435165 0.32705764 0.60535341 0.57255135\n",
      "  0.28157043 0.19896601 0.03922682 0.06509553]\n",
      " [0.52965443 0.06093419 0.31987177 0.03047689 0.68764083 0.79116815\n",
      "  0.60525381 0.8237208  0.74644816 0.67153307]\n",
      " [0.93827409 0.0810033  0.8603861  0.22761882 0.38677649 0.36721948\n",
      "  0.58576073 0.35697544 0.53548364 0.6267675 ]\n",
      " [0.35169568 0.03493632 0.3150684  0.75576364 0.69943086 0.73091143\n",
      "  0.90924652 0.26580757 0.93369185 0.57647599]\n",
      " [0.05377758 0.82771598 0.07069761 0.07950148 0.12685168 0.5374115\n",
      "  0.37110761 0.0929949  0.18465019 0.69372382]\n",
      " [0.25698067 0.33852924 0.97992577 0.52511676 0.26697278 0.32716829\n",
      "  0.32044518 0.77758104 0.16731715 0.41703832]\n",
      " [0.16881973 0.17286065 0.29139085 0.1883023  0.73602634 0.40878063\n",
      "  0.58340587 0.67961105 0.33398062 0.09700536]]\n",
      "maximum value 0.9885565265129709\n",
      "minimum value 0.030476893134171568\n"
     ]
    }
   ],
   "source": [
    "#5. Create a 10x10 array with random values and find the minimum and maximum values.\n",
    "\n",
    "r = np.random.random((10,10))\n",
    "print(r)\n",
    "print(\"maximum value\",np.max(r))\n",
    "print(\"minimum value\",np.min(r))"
   ]
  },
  {
   "cell_type": "code",
   "execution_count": 19,
   "id": "0a1b58ec",
   "metadata": {},
   "outputs": [
    {
     "name": "stdout",
     "output_type": "stream",
     "text": [
      "[0.61327542 0.32908068 0.8113229  0.31362914 0.55518067 0.14161019\n",
      " 0.46862073 0.36041306 0.35163975 0.34676968 0.91191    0.0438989\n",
      " 0.4588482  0.18536462 0.20772321 0.61697676 0.23519486 0.50693414\n",
      " 0.04055213 0.41310455 0.25916069 0.10295527 0.09764027 0.1796721\n",
      " 0.7538411  0.84409621 0.00760357 0.31672762 0.66843615 0.66133239]\n",
      "mean= 0.39345049985988984\n"
     ]
    }
   ],
   "source": [
    "#6. Create a random vector of size 30 and find the mean value.\n",
    "\n",
    "c = np.random.random(30)\n",
    "print(c)\n",
    "print(\"mean=\",c.mean())"
   ]
  },
  {
   "cell_type": "code",
   "execution_count": null,
   "id": "67d4a6f3",
   "metadata": {},
   "outputs": [],
   "source": []
  }
 ],
 "metadata": {
  "kernelspec": {
   "display_name": "Python 3",
   "language": "python",
   "name": "python3"
  },
  "language_info": {
   "codemirror_mode": {
    "name": "ipython",
    "version": 3
   },
   "file_extension": ".py",
   "mimetype": "text/x-python",
   "name": "python",
   "nbconvert_exporter": "python",
   "pygments_lexer": "ipython3",
   "version": "3.6.7"
  }
 },
 "nbformat": 4,
 "nbformat_minor": 5
}
